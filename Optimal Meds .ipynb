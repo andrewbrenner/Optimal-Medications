{
 "cells": [
  {
   "cell_type": "markdown",
   "metadata": {},
   "source": [
    "## 1. Find Optimal Medications\n",
    "\n",
    "This program iterates through the medications and perscriptions, when it finds a non-generic medication, it searches through the medication list to find a generic equavilent if possible. It then outputs all switches necessary by perscription id and new medication id."
   ]
  },
  {
   "cell_type": "code",
   "execution_count": null,
   "metadata": {
    "scrolled": true
   },
   "outputs": [],
   "source": [
    "## 1. Find Optimal Medications\n",
    "\n",
    "#This program iterates through the medications and perscriptions, \n",
    "#when it finds a non-generic medication, it searches through the medication \n",
    "#list to find a generic equavilent if possible. It then outputs all switches \n",
    "#necessary by perscription id and new medication id.\n",
    "\n",
    "\n",
    "\n",
    "import requests\n",
    "import json\n",
    "\n",
    "scriptUpdates = [] #maintains a list of what perscription to update\n",
    "\n",
    "mList = requests.get('http://api-sandbox.pillpack.com/medications')\n",
    "if mList.status_code != 200: # Something went wrong, prints status\n",
    "    raise Exception('GET /mList/ {}'.format(mList.status_code))\n",
    "    \n",
    "sList = requests.get('http://api-sandbox.pillpack.com/prescriptions')\n",
    "if sList.status_code != 200: # Something went wrong, prints status\n",
    "    raise Exception('GET /sList/ {}'.format(sList.status_code))\n",
    "    \n",
    "for script in sList.json(): #Go through all perscriptions pulling IDs and medication IDs\n",
    "    scriptID = '{}'.format(script['id'])\n",
    "    medID = '{}'.format(script['medication_id'])\n",
    "    for meds in mList.json(): #Go through medications\n",
    "        if medID == '{}'.format(meds['id']): #match ID to what is needed for prescription\n",
    "            if '{}'.format(meds['generic']) != 'True': #if not GENERIC find a generic version if possible\n",
    "                RX = '{}'.format(meds['rxcui']) #Gets RXCUI to match medications\n",
    "                for meds2 in mList.json():\n",
    "                    if RX == '{}'.format(meds2['rxcui']) and '{}'.format(meds2['generic']) == 'True': #Matches RXCUI and being GENERIC\n",
    "                        scriptUpdates.append({\"prescription_id\": scriptID, \"medication_id\": '{}'.format(meds2['id']) }) #Adds perscription to the update list\n",
    "\n",
    "\n",
    "with open(\"prescription_updates.json\", \"w\") as file: #Makes the JSON file telling what scripts to update\n",
    "    json.dump(scriptUpdates, file)\n"
   ]
  },
  {
   "cell_type": "markdown",
   "metadata": {},
   "source": [
    "## 2. Find Optiamal Medications (with Pre-Processing)\n",
    "\n",
    "This program does the same as the previous, but process the medication list first, building a list of only medications that can be updated to a cheaper version"
   ]
  },
  {
   "cell_type": "code",
   "execution_count": 74,
   "metadata": {},
   "outputs": [],
   "source": [
    "## 2. Find Optiamal Medications (with Pre-Processing)\n",
    "\n",
    "#This program does the same as the previous, but process \n",
    "#the medication list first, building a list of only medications \n",
    "#that can be updated to a cheaper version\n",
    "\n",
    "import requests\n",
    "import json\n",
    "\n",
    "scriptUpdates = [] #maintains a list of what perscription to update\n",
    "quickScript = [] #maintains a list of what medication numbers have a generic equavilant  \n",
    "\n",
    "mList = requests.get('http://api-sandbox.pillpack.com/medications')\n",
    "if mList.status_code != 200: # Something went wrong, prints status\n",
    "    raise Exception('GET /mList/ {}'.format(mList.status_code))\n",
    "\n",
    "#Pre-Process Medications\n",
    "for meds in mList.json(): #Go through medications\n",
    "    if '{}'.format(meds['generic']) != 'True': #if not GENERIC find a generic version if possible\n",
    "        RX = '{}'.format(meds['rxcui']) #RXCUI number\n",
    "        oldID = '{}'.format(meds['id']) #Gets id for what medications can be switched\n",
    "        for meds2 in mList.json(): #Finds medication to switch to\n",
    "            if RX == '{}'.format(meds2['rxcui']) and '{}'.format(meds2['generic']) == 'True': #Matches RXCUI and being GENERIC\n",
    "                quickScript.append({\"old_med_id\": oldID, \"new_med_id\": '{}'.format(meds2['id']) }) #Adds the med_id and the new one GENERIC one to a list  \n",
    " \n",
    "sList = requests.get('http://api-sandbox.pillpack.com/prescriptions')\n",
    "if sList.status_code != 200: # Something went wrong, prints status\n",
    "    raise Exception('GET /sList/ {}'.format(sList.status_code))\n",
    "\n",
    "for script in sList.json(): #Go through all perscriptions pulling IDs and medication IDs\n",
    "    scriptID = '{}'.format(script['id'])\n",
    "    medID = '{}'.format(script['medication_id'])\n",
    "    for updates in quickScript: #iterate through all updatable medication IDs\n",
    "        if medID == '{}'.format(updates['old_med_id']): #If match is found add the script and new med_id to the update list\n",
    "            scriptUpdates.append({\"prescription_id\": scriptID, \"medication_id\": '{}'.format(updates['new_med_id']) })\n",
    "\n",
    "    \n",
    "with open(\"prescription_updates2.json\", \"w\") as file: #Makes the JSON file telling what scripts to update\n",
    "    json.dump(scriptUpdates, file)\n",
    "    "
   ]
  }
 ],
 "metadata": {
  "kernelspec": {
   "display_name": "Python 3",
   "language": "python",
   "name": "python3"
  },
  "language_info": {
   "codemirror_mode": {
    "name": "ipython",
    "version": 3
   },
   "file_extension": ".py",
   "mimetype": "text/x-python",
   "name": "python",
   "nbconvert_exporter": "python",
   "pygments_lexer": "ipython3",
   "version": "3.6.4"
  }
 },
 "nbformat": 4,
 "nbformat_minor": 2
}
